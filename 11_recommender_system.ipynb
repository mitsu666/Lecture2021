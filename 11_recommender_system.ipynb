{
  "nbformat": 4,
  "nbformat_minor": 0,
  "metadata": {
    "colab": {
      "name": "11_recommender system.ipynb",
      "provenance": [],
      "collapsed_sections": [],
      "authorship_tag": "ABX9TyNBrFicumgBudl1/IYzmWOA",
      "include_colab_link": true
    },
    "kernelspec": {
      "name": "python3",
      "display_name": "Python 3"
    },
    "language_info": {
      "name": "python"
    }
  },
  "cells": [
    {
      "cell_type": "markdown",
      "metadata": {
        "id": "view-in-github",
        "colab_type": "text"
      },
      "source": [
        "<a href=\"https://colab.research.google.com/github/mitsu666/Lecture2021/blob/main/11_recommender_system.ipynb\" target=\"_parent\"><img src=\"https://colab.research.google.com/assets/colab-badge.svg\" alt=\"Open In Colab\"/></a>"
      ]
    },
    {
      "cell_type": "code",
      "metadata": {
        "colab": {
          "base_uri": "https://localhost:8080/"
        },
        "id": "_d67PNyruf0x",
        "outputId": "081bb394-daf7-4c86-a470-2123d0d20794"
      },
      "source": [
        "!pip install surprise"
      ],
      "execution_count": 3,
      "outputs": [
        {
          "output_type": "stream",
          "name": "stdout",
          "text": [
            "Requirement already satisfied: surprise in /usr/local/lib/python3.7/dist-packages (0.1)\n",
            "Requirement already satisfied: scikit-surprise in /usr/local/lib/python3.7/dist-packages (from surprise) (1.1.1)\n",
            "Requirement already satisfied: numpy>=1.11.2 in /usr/local/lib/python3.7/dist-packages (from scikit-surprise->surprise) (1.19.5)\n",
            "Requirement already satisfied: joblib>=0.11 in /usr/local/lib/python3.7/dist-packages (from scikit-surprise->surprise) (1.0.1)\n",
            "Requirement already satisfied: scipy>=1.0.0 in /usr/local/lib/python3.7/dist-packages (from scikit-surprise->surprise) (1.4.1)\n",
            "Requirement already satisfied: six>=1.10.0 in /usr/local/lib/python3.7/dist-packages (from scikit-surprise->surprise) (1.15.0)\n"
          ]
        }
      ]
    },
    {
      "cell_type": "code",
      "metadata": {
        "id": "3bRV211Lt_-6"
      },
      "source": [
        "from surprise import SVD\n",
        "from surprise import NMF\n",
        "from surprise import Dataset\n",
        "from surprise import KNNBasic\n",
        "from surprise.model_selection import cross_validate\n",
        "from surprise.model_selection import train_test_split\n",
        "from surprise import accuracy\n",
        "import matplotlib.pyplot as plt\n",
        "import pandas as pd\n",
        "import numpy as np\n",
        "rmse_dic = {}\n",
        "scored_dic = {}"
      ],
      "execution_count": 4,
      "outputs": []
    },
    {
      "cell_type": "code",
      "metadata": {
        "id": "GjOGlWRVua7M"
      },
      "source": [
        "data = Dataset.load_builtin('ml-100k')\n",
        "#data.raw_ratings"
      ],
      "execution_count": 5,
      "outputs": []
    },
    {
      "cell_type": "code",
      "metadata": {
        "id": "Kof4YWj_7iOe"
      },
      "source": [
        "#訓練、検証データに分割する\n",
        "trainset, testset = train_test_split(data, test_size=.25,random_state=123)"
      ],
      "execution_count": 6,
      "outputs": []
    },
    {
      "cell_type": "markdown",
      "metadata": {
        "id": "lAs9psCVpBgM"
      },
      "source": [
        "## KNN"
      ]
    },
    {
      "cell_type": "code",
      "metadata": {
        "colab": {
          "base_uri": "https://localhost:8080/"
        },
        "id": "Eo754UqHLE2_",
        "outputId": "e7b192cb-0b58-4337-96a8-632b246359ef"
      },
      "source": [
        "#学習\n",
        "algo = KNNBasic()\n",
        "algo.fit(trainset)\n",
        "#予測\n",
        "predictions = algo.test(testset)"
      ],
      "execution_count": 7,
      "outputs": [
        {
          "output_type": "stream",
          "name": "stdout",
          "text": [
            "Computing the msd similarity matrix...\n",
            "Done computing similarity matrix.\n"
          ]
        }
      ]
    },
    {
      "cell_type": "code",
      "metadata": {
        "colab": {
          "base_uri": "https://localhost:8080/",
          "height": 478
        },
        "id": "3m6AcAvULF0W",
        "outputId": "9b6fd6ee-a1b5-47ea-94b2-f7d95344f697"
      },
      "source": [
        "temp = pd.DataFrame([pred[0:4] for pred in predictions],columns=['UserID','ItemId','TrueRating','推測値']) \n",
        "#例\n",
        "display(temp)\n",
        "scored_dic['KNN'] = temp\n",
        "#平方平均2乗誤差\n",
        "print (accuracy.rmse(predictions))\n",
        "rmse_dic['KNN'] = accuracy.rmse(predictions)"
      ],
      "execution_count": 8,
      "outputs": [
        {
          "output_type": "display_data",
          "data": {
            "text/html": [
              "<div>\n",
              "<style scoped>\n",
              "    .dataframe tbody tr th:only-of-type {\n",
              "        vertical-align: middle;\n",
              "    }\n",
              "\n",
              "    .dataframe tbody tr th {\n",
              "        vertical-align: top;\n",
              "    }\n",
              "\n",
              "    .dataframe thead th {\n",
              "        text-align: right;\n",
              "    }\n",
              "</style>\n",
              "<table border=\"1\" class=\"dataframe\">\n",
              "  <thead>\n",
              "    <tr style=\"text-align: right;\">\n",
              "      <th></th>\n",
              "      <th>UserID</th>\n",
              "      <th>ItemId</th>\n",
              "      <th>TrueRating</th>\n",
              "      <th>推測値</th>\n",
              "    </tr>\n",
              "  </thead>\n",
              "  <tbody>\n",
              "    <tr>\n",
              "      <th>0</th>\n",
              "      <td>798</td>\n",
              "      <td>480</td>\n",
              "      <td>3.0</td>\n",
              "      <td>4.278078</td>\n",
              "    </tr>\n",
              "    <tr>\n",
              "      <th>1</th>\n",
              "      <td>296</td>\n",
              "      <td>462</td>\n",
              "      <td>4.0</td>\n",
              "      <td>3.992136</td>\n",
              "    </tr>\n",
              "    <tr>\n",
              "      <th>2</th>\n",
              "      <td>653</td>\n",
              "      <td>258</td>\n",
              "      <td>3.0</td>\n",
              "      <td>4.043072</td>\n",
              "    </tr>\n",
              "    <tr>\n",
              "      <th>3</th>\n",
              "      <td>883</td>\n",
              "      <td>239</td>\n",
              "      <td>3.0</td>\n",
              "      <td>3.594985</td>\n",
              "    </tr>\n",
              "    <tr>\n",
              "      <th>4</th>\n",
              "      <td>272</td>\n",
              "      <td>187</td>\n",
              "      <td>5.0</td>\n",
              "      <td>4.520559</td>\n",
              "    </tr>\n",
              "    <tr>\n",
              "      <th>...</th>\n",
              "      <td>...</td>\n",
              "      <td>...</td>\n",
              "      <td>...</td>\n",
              "      <td>...</td>\n",
              "    </tr>\n",
              "    <tr>\n",
              "      <th>24995</th>\n",
              "      <td>717</td>\n",
              "      <td>678</td>\n",
              "      <td>3.0</td>\n",
              "      <td>3.062192</td>\n",
              "    </tr>\n",
              "    <tr>\n",
              "      <th>24996</th>\n",
              "      <td>811</td>\n",
              "      <td>258</td>\n",
              "      <td>5.0</td>\n",
              "      <td>3.948962</td>\n",
              "    </tr>\n",
              "    <tr>\n",
              "      <th>24997</th>\n",
              "      <td>92</td>\n",
              "      <td>22</td>\n",
              "      <td>3.0</td>\n",
              "      <td>4.300643</td>\n",
              "    </tr>\n",
              "    <tr>\n",
              "      <th>24998</th>\n",
              "      <td>389</td>\n",
              "      <td>483</td>\n",
              "      <td>5.0</td>\n",
              "      <td>4.735686</td>\n",
              "    </tr>\n",
              "    <tr>\n",
              "      <th>24999</th>\n",
              "      <td>92</td>\n",
              "      <td>93</td>\n",
              "      <td>4.0</td>\n",
              "      <td>3.729955</td>\n",
              "    </tr>\n",
              "  </tbody>\n",
              "</table>\n",
              "<p>25000 rows × 4 columns</p>\n",
              "</div>"
            ],
            "text/plain": [
              "      UserID ItemId  TrueRating       推測値\n",
              "0        798    480         3.0  4.278078\n",
              "1        296    462         4.0  3.992136\n",
              "2        653    258         3.0  4.043072\n",
              "3        883    239         3.0  3.594985\n",
              "4        272    187         5.0  4.520559\n",
              "...      ...    ...         ...       ...\n",
              "24995    717    678         3.0  3.062192\n",
              "24996    811    258         5.0  3.948962\n",
              "24997     92     22         3.0  4.300643\n",
              "24998    389    483         5.0  4.735686\n",
              "24999     92     93         4.0  3.729955\n",
              "\n",
              "[25000 rows x 4 columns]"
            ]
          },
          "metadata": {}
        },
        {
          "output_type": "stream",
          "name": "stdout",
          "text": [
            "RMSE: 0.9763\n",
            "0.9762605158799611\n",
            "RMSE: 0.9763\n"
          ]
        }
      ]
    },
    {
      "cell_type": "markdown",
      "metadata": {
        "id": "T9Ip2-FYtdWt"
      },
      "source": [
        "## SVD法"
      ]
    },
    {
      "cell_type": "code",
      "metadata": {
        "id": "pp-L0ASJLatR"
      },
      "source": [
        "#学習\n",
        "algo = SVD()\n",
        "algo.fit(trainset)\n",
        "#予測\n",
        "predictions = algo.test(testset)"
      ],
      "execution_count": 9,
      "outputs": []
    },
    {
      "cell_type": "code",
      "metadata": {
        "colab": {
          "base_uri": "https://localhost:8080/",
          "height": 478
        },
        "id": "VrxlPDHoNHJw",
        "outputId": "bfe09a6d-fabb-4c28-a2ec-4559c386b6b6"
      },
      "source": [
        "temp = pd.DataFrame([pred[0:4] for pred in predictions],columns=['UserID','ItemId','TrueRating','推測値']) \n",
        "#例\n",
        "display(temp)\n",
        "scored_dic['SVD'] = temp\n",
        "#平方平均2乗誤差\n",
        "print (accuracy.rmse(predictions))\n",
        "rmse_dic['SVD'] = accuracy.rmse(predictions)"
      ],
      "execution_count": 10,
      "outputs": [
        {
          "output_type": "display_data",
          "data": {
            "text/html": [
              "<div>\n",
              "<style scoped>\n",
              "    .dataframe tbody tr th:only-of-type {\n",
              "        vertical-align: middle;\n",
              "    }\n",
              "\n",
              "    .dataframe tbody tr th {\n",
              "        vertical-align: top;\n",
              "    }\n",
              "\n",
              "    .dataframe thead th {\n",
              "        text-align: right;\n",
              "    }\n",
              "</style>\n",
              "<table border=\"1\" class=\"dataframe\">\n",
              "  <thead>\n",
              "    <tr style=\"text-align: right;\">\n",
              "      <th></th>\n",
              "      <th>UserID</th>\n",
              "      <th>ItemId</th>\n",
              "      <th>TrueRating</th>\n",
              "      <th>推測値</th>\n",
              "    </tr>\n",
              "  </thead>\n",
              "  <tbody>\n",
              "    <tr>\n",
              "      <th>0</th>\n",
              "      <td>798</td>\n",
              "      <td>480</td>\n",
              "      <td>3.0</td>\n",
              "      <td>4.552166</td>\n",
              "    </tr>\n",
              "    <tr>\n",
              "      <th>1</th>\n",
              "      <td>296</td>\n",
              "      <td>462</td>\n",
              "      <td>4.0</td>\n",
              "      <td>4.313098</td>\n",
              "    </tr>\n",
              "    <tr>\n",
              "      <th>2</th>\n",
              "      <td>653</td>\n",
              "      <td>258</td>\n",
              "      <td>3.0</td>\n",
              "      <td>3.044688</td>\n",
              "    </tr>\n",
              "    <tr>\n",
              "      <th>3</th>\n",
              "      <td>883</td>\n",
              "      <td>239</td>\n",
              "      <td>3.0</td>\n",
              "      <td>3.738817</td>\n",
              "    </tr>\n",
              "    <tr>\n",
              "      <th>4</th>\n",
              "      <td>272</td>\n",
              "      <td>187</td>\n",
              "      <td>5.0</td>\n",
              "      <td>4.225985</td>\n",
              "    </tr>\n",
              "    <tr>\n",
              "      <th>...</th>\n",
              "      <td>...</td>\n",
              "      <td>...</td>\n",
              "      <td>...</td>\n",
              "      <td>...</td>\n",
              "    </tr>\n",
              "    <tr>\n",
              "      <th>24995</th>\n",
              "      <td>717</td>\n",
              "      <td>678</td>\n",
              "      <td>3.0</td>\n",
              "      <td>3.515780</td>\n",
              "    </tr>\n",
              "    <tr>\n",
              "      <th>24996</th>\n",
              "      <td>811</td>\n",
              "      <td>258</td>\n",
              "      <td>5.0</td>\n",
              "      <td>4.947735</td>\n",
              "    </tr>\n",
              "    <tr>\n",
              "      <th>24997</th>\n",
              "      <td>92</td>\n",
              "      <td>22</td>\n",
              "      <td>3.0</td>\n",
              "      <td>4.050014</td>\n",
              "    </tr>\n",
              "    <tr>\n",
              "      <th>24998</th>\n",
              "      <td>389</td>\n",
              "      <td>483</td>\n",
              "      <td>5.0</td>\n",
              "      <td>4.772856</td>\n",
              "    </tr>\n",
              "    <tr>\n",
              "      <th>24999</th>\n",
              "      <td>92</td>\n",
              "      <td>93</td>\n",
              "      <td>4.0</td>\n",
              "      <td>3.660897</td>\n",
              "    </tr>\n",
              "  </tbody>\n",
              "</table>\n",
              "<p>25000 rows × 4 columns</p>\n",
              "</div>"
            ],
            "text/plain": [
              "      UserID ItemId  TrueRating       推測値\n",
              "0        798    480         3.0  4.552166\n",
              "1        296    462         4.0  4.313098\n",
              "2        653    258         3.0  3.044688\n",
              "3        883    239         3.0  3.738817\n",
              "4        272    187         5.0  4.225985\n",
              "...      ...    ...         ...       ...\n",
              "24995    717    678         3.0  3.515780\n",
              "24996    811    258         5.0  4.947735\n",
              "24997     92     22         3.0  4.050014\n",
              "24998    389    483         5.0  4.772856\n",
              "24999     92     93         4.0  3.660897\n",
              "\n",
              "[25000 rows x 4 columns]"
            ]
          },
          "metadata": {}
        },
        {
          "output_type": "stream",
          "name": "stdout",
          "text": [
            "RMSE: 0.9319\n",
            "0.9319229085953485\n",
            "RMSE: 0.9319\n"
          ]
        }
      ]
    },
    {
      "cell_type": "markdown",
      "metadata": {
        "id": "NrMph5DUwdmE"
      },
      "source": [
        "## 行列分解 NMF"
      ]
    },
    {
      "cell_type": "code",
      "metadata": {
        "id": "GxmhaGV_uuHq"
      },
      "source": [
        "#学習\n",
        "algo = NMF()\n",
        "algo.fit(trainset)\n",
        "#予測\n",
        "predictions = algo.test(testset)"
      ],
      "execution_count": 11,
      "outputs": []
    },
    {
      "cell_type": "code",
      "metadata": {
        "colab": {
          "base_uri": "https://localhost:8080/",
          "height": 478
        },
        "id": "9AJTKj6ml5xI",
        "outputId": "4c6f3610-270b-4eb2-8e37-d374764b742c"
      },
      "source": [
        "temp = pd.DataFrame([pred[0:4] for pred in predictions],columns=['UserID','ItemId','TrueRating','推測値']) \n",
        "#例\n",
        "display(temp)\n",
        "scored_dic['NMF'] = temp\n",
        "#平方平均2乗誤差\n",
        "print (accuracy.rmse(predictions))\n",
        "rmse_dic['NMF'] = accuracy.rmse(predictions)"
      ],
      "execution_count": 12,
      "outputs": [
        {
          "output_type": "display_data",
          "data": {
            "text/html": [
              "<div>\n",
              "<style scoped>\n",
              "    .dataframe tbody tr th:only-of-type {\n",
              "        vertical-align: middle;\n",
              "    }\n",
              "\n",
              "    .dataframe tbody tr th {\n",
              "        vertical-align: top;\n",
              "    }\n",
              "\n",
              "    .dataframe thead th {\n",
              "        text-align: right;\n",
              "    }\n",
              "</style>\n",
              "<table border=\"1\" class=\"dataframe\">\n",
              "  <thead>\n",
              "    <tr style=\"text-align: right;\">\n",
              "      <th></th>\n",
              "      <th>UserID</th>\n",
              "      <th>ItemId</th>\n",
              "      <th>TrueRating</th>\n",
              "      <th>推測値</th>\n",
              "    </tr>\n",
              "  </thead>\n",
              "  <tbody>\n",
              "    <tr>\n",
              "      <th>0</th>\n",
              "      <td>798</td>\n",
              "      <td>480</td>\n",
              "      <td>3.0</td>\n",
              "      <td>4.204876</td>\n",
              "    </tr>\n",
              "    <tr>\n",
              "      <th>1</th>\n",
              "      <td>296</td>\n",
              "      <td>462</td>\n",
              "      <td>4.0</td>\n",
              "      <td>4.487631</td>\n",
              "    </tr>\n",
              "    <tr>\n",
              "      <th>2</th>\n",
              "      <td>653</td>\n",
              "      <td>258</td>\n",
              "      <td>3.0</td>\n",
              "      <td>3.092515</td>\n",
              "    </tr>\n",
              "    <tr>\n",
              "      <th>3</th>\n",
              "      <td>883</td>\n",
              "      <td>239</td>\n",
              "      <td>3.0</td>\n",
              "      <td>3.668288</td>\n",
              "    </tr>\n",
              "    <tr>\n",
              "      <th>4</th>\n",
              "      <td>272</td>\n",
              "      <td>187</td>\n",
              "      <td>5.0</td>\n",
              "      <td>4.736324</td>\n",
              "    </tr>\n",
              "    <tr>\n",
              "      <th>...</th>\n",
              "      <td>...</td>\n",
              "      <td>...</td>\n",
              "      <td>...</td>\n",
              "      <td>...</td>\n",
              "    </tr>\n",
              "    <tr>\n",
              "      <th>24995</th>\n",
              "      <td>717</td>\n",
              "      <td>678</td>\n",
              "      <td>3.0</td>\n",
              "      <td>3.473981</td>\n",
              "    </tr>\n",
              "    <tr>\n",
              "      <th>24996</th>\n",
              "      <td>811</td>\n",
              "      <td>258</td>\n",
              "      <td>5.0</td>\n",
              "      <td>5.000000</td>\n",
              "    </tr>\n",
              "    <tr>\n",
              "      <th>24997</th>\n",
              "      <td>92</td>\n",
              "      <td>22</td>\n",
              "      <td>3.0</td>\n",
              "      <td>4.337511</td>\n",
              "    </tr>\n",
              "    <tr>\n",
              "      <th>24998</th>\n",
              "      <td>389</td>\n",
              "      <td>483</td>\n",
              "      <td>5.0</td>\n",
              "      <td>4.392803</td>\n",
              "    </tr>\n",
              "    <tr>\n",
              "      <th>24999</th>\n",
              "      <td>92</td>\n",
              "      <td>93</td>\n",
              "      <td>4.0</td>\n",
              "      <td>3.555572</td>\n",
              "    </tr>\n",
              "  </tbody>\n",
              "</table>\n",
              "<p>25000 rows × 4 columns</p>\n",
              "</div>"
            ],
            "text/plain": [
              "      UserID ItemId  TrueRating       推測値\n",
              "0        798    480         3.0  4.204876\n",
              "1        296    462         4.0  4.487631\n",
              "2        653    258         3.0  3.092515\n",
              "3        883    239         3.0  3.668288\n",
              "4        272    187         5.0  4.736324\n",
              "...      ...    ...         ...       ...\n",
              "24995    717    678         3.0  3.473981\n",
              "24996    811    258         5.0  5.000000\n",
              "24997     92     22         3.0  4.337511\n",
              "24998    389    483         5.0  4.392803\n",
              "24999     92     93         4.0  3.555572\n",
              "\n",
              "[25000 rows x 4 columns]"
            ]
          },
          "metadata": {}
        },
        {
          "output_type": "stream",
          "name": "stdout",
          "text": [
            "RMSE: 0.9598\n",
            "0.9598472046316071\n",
            "RMSE: 0.9598\n"
          ]
        }
      ]
    },
    {
      "cell_type": "markdown",
      "metadata": {
        "id": "93bRzSoJxyDd"
      },
      "source": [
        "## Surpirse まとめ"
      ]
    },
    {
      "cell_type": "code",
      "metadata": {
        "colab": {
          "base_uri": "https://localhost:8080/"
        },
        "id": "WK8TlAnmx1rv",
        "outputId": "013fb996-feda-4a8a-9ea8-000b725847d2"
      },
      "source": [
        "for k,v in rmse_dic.items():\n",
        "  print (k,v)"
      ],
      "execution_count": 13,
      "outputs": [
        {
          "output_type": "stream",
          "name": "stdout",
          "text": [
            "KNN 0.9762605158799611\n",
            "SVD 0.9319229085953485\n",
            "NMF 0.9598472046316071\n"
          ]
        }
      ]
    },
    {
      "cell_type": "markdown",
      "metadata": {
        "id": "Hcu7vOuBwdQo"
      },
      "source": [
        "# fastai\n"
      ]
    },
    {
      "cell_type": "code",
      "metadata": {
        "id": "1OFBSIAowfps"
      },
      "source": [
        "from fastai import *\n",
        "from fastai.collab import *\n",
        "from sklearn.model_selection import train_test_split\n",
        "from surprise import Dataset #dastasetという名前が衝突するため最後にimportする"
      ],
      "execution_count": 14,
      "outputs": []
    },
    {
      "cell_type": "code",
      "metadata": {
        "colab": {
          "base_uri": "https://localhost:8080/",
          "height": 206
        },
        "id": "ntseacpOwiAg",
        "outputId": "3e0071b5-1384-401a-960e-3f53b076cde2"
      },
      "source": [
        "#Supriseと同じデータを使用する\n",
        "data = Dataset.load_builtin('ml-100k')\n",
        "df = pd.DataFrame(data.raw_ratings,columns=['UserID','ItemID','Rating','Timestamp'])\n",
        "display(df.head())\n",
        "train ,test = train_test_split(df,test_size=0.25,random_state=12345)"
      ],
      "execution_count": 15,
      "outputs": [
        {
          "output_type": "display_data",
          "data": {
            "text/html": [
              "<div>\n",
              "<style scoped>\n",
              "    .dataframe tbody tr th:only-of-type {\n",
              "        vertical-align: middle;\n",
              "    }\n",
              "\n",
              "    .dataframe tbody tr th {\n",
              "        vertical-align: top;\n",
              "    }\n",
              "\n",
              "    .dataframe thead th {\n",
              "        text-align: right;\n",
              "    }\n",
              "</style>\n",
              "<table border=\"1\" class=\"dataframe\">\n",
              "  <thead>\n",
              "    <tr style=\"text-align: right;\">\n",
              "      <th></th>\n",
              "      <th>UserID</th>\n",
              "      <th>ItemID</th>\n",
              "      <th>Rating</th>\n",
              "      <th>Timestamp</th>\n",
              "    </tr>\n",
              "  </thead>\n",
              "  <tbody>\n",
              "    <tr>\n",
              "      <th>0</th>\n",
              "      <td>196</td>\n",
              "      <td>242</td>\n",
              "      <td>3.0</td>\n",
              "      <td>881250949</td>\n",
              "    </tr>\n",
              "    <tr>\n",
              "      <th>1</th>\n",
              "      <td>186</td>\n",
              "      <td>302</td>\n",
              "      <td>3.0</td>\n",
              "      <td>891717742</td>\n",
              "    </tr>\n",
              "    <tr>\n",
              "      <th>2</th>\n",
              "      <td>22</td>\n",
              "      <td>377</td>\n",
              "      <td>1.0</td>\n",
              "      <td>878887116</td>\n",
              "    </tr>\n",
              "    <tr>\n",
              "      <th>3</th>\n",
              "      <td>244</td>\n",
              "      <td>51</td>\n",
              "      <td>2.0</td>\n",
              "      <td>880606923</td>\n",
              "    </tr>\n",
              "    <tr>\n",
              "      <th>4</th>\n",
              "      <td>166</td>\n",
              "      <td>346</td>\n",
              "      <td>1.0</td>\n",
              "      <td>886397596</td>\n",
              "    </tr>\n",
              "  </tbody>\n",
              "</table>\n",
              "</div>"
            ],
            "text/plain": [
              "  UserID ItemID  Rating  Timestamp\n",
              "0    196    242     3.0  881250949\n",
              "1    186    302     3.0  891717742\n",
              "2     22    377     1.0  878887116\n",
              "3    244     51     2.0  880606923\n",
              "4    166    346     1.0  886397596"
            ]
          },
          "metadata": {}
        }
      ]
    },
    {
      "cell_type": "markdown",
      "metadata": {
        "id": "yUvHL_Hy4SRS"
      },
      "source": [
        "## dotモデル"
      ]
    },
    {
      "cell_type": "code",
      "metadata": {
        "colab": {
          "base_uri": "https://localhost:8080/",
          "height": 284
        },
        "id": "RvI6rurux-jo",
        "outputId": "a763bee5-2faa-45ac-baaf-0a26346e22e7"
      },
      "source": [
        "#データセットをCollabdataBunchで使用できるように変換\n",
        "data = CollabDataBunch.from_df(train, test = test,  bs=512)\n",
        "#data.show_batch()\n",
        "learn = collab_learner(data, n_factors=50, y_range=(1, 5))\n",
        "print (learn.model)\n",
        "learn.fit(4)"
      ],
      "execution_count": 16,
      "outputs": [
        {
          "output_type": "stream",
          "name": "stdout",
          "text": [
            "EmbeddingDotBias(\n",
            "  (u_weight): Embedding(944, 50)\n",
            "  (i_weight): Embedding(1611, 50)\n",
            "  (u_bias): Embedding(944, 1)\n",
            "  (i_bias): Embedding(1611, 1)\n",
            ")\n"
          ]
        },
        {
          "output_type": "display_data",
          "data": {
            "text/html": [
              "<table border=\"1\" class=\"dataframe\">\n",
              "  <thead>\n",
              "    <tr style=\"text-align: left;\">\n",
              "      <th>epoch</th>\n",
              "      <th>train_loss</th>\n",
              "      <th>valid_loss</th>\n",
              "      <th>time</th>\n",
              "    </tr>\n",
              "  </thead>\n",
              "  <tbody>\n",
              "    <tr>\n",
              "      <td>0</td>\n",
              "      <td>1.228355</td>\n",
              "      <td>1.044627</td>\n",
              "      <td>00:04</td>\n",
              "    </tr>\n",
              "    <tr>\n",
              "      <td>1</td>\n",
              "      <td>0.921161</td>\n",
              "      <td>0.905455</td>\n",
              "      <td>00:04</td>\n",
              "    </tr>\n",
              "    <tr>\n",
              "      <td>2</td>\n",
              "      <td>0.778214</td>\n",
              "      <td>0.866483</td>\n",
              "      <td>00:04</td>\n",
              "    </tr>\n",
              "    <tr>\n",
              "      <td>3</td>\n",
              "      <td>0.678713</td>\n",
              "      <td>0.852949</td>\n",
              "      <td>00:04</td>\n",
              "    </tr>\n",
              "  </tbody>\n",
              "</table>"
            ],
            "text/plain": [
              "<IPython.core.display.HTML object>"
            ]
          },
          "metadata": {}
        }
      ]
    },
    {
      "cell_type": "code",
      "metadata": {
        "colab": {
          "base_uri": "https://localhost:8080/",
          "height": 224
        },
        "id": "_tqgOvAA1FnN",
        "outputId": "5859d890-1d12-4972-93c4-bd1c05a00299"
      },
      "source": [
        "#RMSE計算\n",
        "tensor = learn.get_preds(ds_type=DatasetType.Test)[0].numpy()\n",
        "rmse_dic['fastai_dot'] = np.mean((test['Rating']-pd.Series(tensor,index=test.index))**2)**(1/2)\n",
        "display(pd.concat([test['Rating'],pd.Series(tensor,index=test.index)],axis=1).head())\n",
        "print (rmse_dic['fastai_dot'])"
      ],
      "execution_count": 17,
      "outputs": [
        {
          "output_type": "display_data",
          "data": {
            "text/html": [
              ""
            ],
            "text/plain": [
              "<IPython.core.display.HTML object>"
            ]
          },
          "metadata": {}
        },
        {
          "output_type": "display_data",
          "data": {
            "text/html": [
              "<div>\n",
              "<style scoped>\n",
              "    .dataframe tbody tr th:only-of-type {\n",
              "        vertical-align: middle;\n",
              "    }\n",
              "\n",
              "    .dataframe tbody tr th {\n",
              "        vertical-align: top;\n",
              "    }\n",
              "\n",
              "    .dataframe thead th {\n",
              "        text-align: right;\n",
              "    }\n",
              "</style>\n",
              "<table border=\"1\" class=\"dataframe\">\n",
              "  <thead>\n",
              "    <tr style=\"text-align: right;\">\n",
              "      <th></th>\n",
              "      <th>Rating</th>\n",
              "      <th>0</th>\n",
              "    </tr>\n",
              "  </thead>\n",
              "  <tbody>\n",
              "    <tr>\n",
              "      <th>71751</th>\n",
              "      <td>4.0</td>\n",
              "      <td>2.557032</td>\n",
              "    </tr>\n",
              "    <tr>\n",
              "      <th>80493</th>\n",
              "      <td>3.0</td>\n",
              "      <td>3.297518</td>\n",
              "    </tr>\n",
              "    <tr>\n",
              "      <th>2655</th>\n",
              "      <td>4.0</td>\n",
              "      <td>3.251974</td>\n",
              "    </tr>\n",
              "    <tr>\n",
              "      <th>53233</th>\n",
              "      <td>4.0</td>\n",
              "      <td>4.080614</td>\n",
              "    </tr>\n",
              "    <tr>\n",
              "      <th>91141</th>\n",
              "      <td>5.0</td>\n",
              "      <td>4.174539</td>\n",
              "    </tr>\n",
              "  </tbody>\n",
              "</table>\n",
              "</div>"
            ],
            "text/plain": [
              "       Rating         0\n",
              "71751     4.0  2.557032\n",
              "80493     3.0  3.297518\n",
              "2655      4.0  3.251974\n",
              "53233     4.0  4.080614\n",
              "91141     5.0  4.174539"
            ]
          },
          "metadata": {}
        },
        {
          "output_type": "stream",
          "name": "stdout",
          "text": [
            "0.9289167832638742\n"
          ]
        }
      ]
    },
    {
      "cell_type": "markdown",
      "metadata": {
        "id": "5EAu_u7mniJ6"
      },
      "source": [
        "## NNモデル"
      ]
    },
    {
      "cell_type": "code",
      "metadata": {
        "colab": {
          "base_uri": "https://localhost:8080/",
          "height": 484
        },
        "id": "kWjRi-So4XWm",
        "outputId": "85bda31e-e436-4c87-852e-0dff40444921"
      },
      "source": [
        "#データセットをCollabdataBunchで使用できるように変換\n",
        "data = CollabDataBunch.from_df(train, test = test,  bs=512)\n",
        "#data.show_batch()\n",
        "learn = collab_learner(data, use_nn=True, y_range=(1, 5),layers=[300,50])\n",
        "print (learn.model)\n",
        "learn.fit(4)"
      ],
      "execution_count": 31,
      "outputs": [
        {
          "output_type": "stream",
          "name": "stdout",
          "text": [
            "EmbeddingNN(\n",
            "  (embeds): ModuleList(\n",
            "    (0): Embedding(944, 74)\n",
            "    (1): Embedding(1619, 100)\n",
            "  )\n",
            "  (emb_drop): Dropout(p=0.0, inplace=False)\n",
            "  (bn_cont): BatchNorm1d(0, eps=1e-05, momentum=0.1, affine=True, track_running_stats=True)\n",
            "  (layers): Sequential(\n",
            "    (0): Linear(in_features=174, out_features=300, bias=True)\n",
            "    (1): ReLU(inplace=True)\n",
            "    (2): BatchNorm1d(300, eps=1e-05, momentum=0.1, affine=True, track_running_stats=True)\n",
            "    (3): Linear(in_features=300, out_features=50, bias=True)\n",
            "    (4): ReLU(inplace=True)\n",
            "    (5): BatchNorm1d(50, eps=1e-05, momentum=0.1, affine=True, track_running_stats=True)\n",
            "    (6): Linear(in_features=50, out_features=1, bias=True)\n",
            "  )\n",
            ")\n"
          ]
        },
        {
          "output_type": "display_data",
          "data": {
            "text/html": [
              "<table border=\"1\" class=\"dataframe\">\n",
              "  <thead>\n",
              "    <tr style=\"text-align: left;\">\n",
              "      <th>epoch</th>\n",
              "      <th>train_loss</th>\n",
              "      <th>valid_loss</th>\n",
              "      <th>time</th>\n",
              "    </tr>\n",
              "  </thead>\n",
              "  <tbody>\n",
              "    <tr>\n",
              "      <td>0</td>\n",
              "      <td>0.966473</td>\n",
              "      <td>0.907274</td>\n",
              "      <td>00:05</td>\n",
              "    </tr>\n",
              "    <tr>\n",
              "      <td>1</td>\n",
              "      <td>0.876695</td>\n",
              "      <td>0.891928</td>\n",
              "      <td>00:06</td>\n",
              "    </tr>\n",
              "    <tr>\n",
              "      <td>2</td>\n",
              "      <td>0.822084</td>\n",
              "      <td>0.884592</td>\n",
              "      <td>00:05</td>\n",
              "    </tr>\n",
              "    <tr>\n",
              "      <td>3</td>\n",
              "      <td>0.778525</td>\n",
              "      <td>0.886878</td>\n",
              "      <td>00:06</td>\n",
              "    </tr>\n",
              "  </tbody>\n",
              "</table>"
            ],
            "text/plain": [
              "<IPython.core.display.HTML object>"
            ]
          },
          "metadata": {}
        }
      ]
    },
    {
      "cell_type": "code",
      "metadata": {
        "colab": {
          "base_uri": "https://localhost:8080/",
          "height": 224
        },
        "id": "XTzBKKI0p4vN",
        "outputId": "3062f815-8b2c-4d01-9e0c-42cc65423740"
      },
      "source": [
        "#RMSE計算\n",
        "tensor = learn.get_preds(ds_type=DatasetType.Test)[0].numpy().squeeze()\n",
        "rmse_dic['fastai_nn'] = np.mean((test['Rating']-pd.Series(tensor,index=test.index))**2)**(1/2)\n",
        "display(pd.concat([test['Rating'],pd.Series(tensor,index=test.index)],axis=1).head())\n",
        "print (rmse_dic['fastai_nn'])"
      ],
      "execution_count": 32,
      "outputs": [
        {
          "output_type": "display_data",
          "data": {
            "text/html": [
              ""
            ],
            "text/plain": [
              "<IPython.core.display.HTML object>"
            ]
          },
          "metadata": {}
        },
        {
          "output_type": "display_data",
          "data": {
            "text/html": [
              "<div>\n",
              "<style scoped>\n",
              "    .dataframe tbody tr th:only-of-type {\n",
              "        vertical-align: middle;\n",
              "    }\n",
              "\n",
              "    .dataframe tbody tr th {\n",
              "        vertical-align: top;\n",
              "    }\n",
              "\n",
              "    .dataframe thead th {\n",
              "        text-align: right;\n",
              "    }\n",
              "</style>\n",
              "<table border=\"1\" class=\"dataframe\">\n",
              "  <thead>\n",
              "    <tr style=\"text-align: right;\">\n",
              "      <th></th>\n",
              "      <th>Rating</th>\n",
              "      <th>0</th>\n",
              "    </tr>\n",
              "  </thead>\n",
              "  <tbody>\n",
              "    <tr>\n",
              "      <th>71751</th>\n",
              "      <td>4.0</td>\n",
              "      <td>3.054919</td>\n",
              "    </tr>\n",
              "    <tr>\n",
              "      <th>80493</th>\n",
              "      <td>3.0</td>\n",
              "      <td>2.954419</td>\n",
              "    </tr>\n",
              "    <tr>\n",
              "      <th>2655</th>\n",
              "      <td>4.0</td>\n",
              "      <td>3.030532</td>\n",
              "    </tr>\n",
              "    <tr>\n",
              "      <th>53233</th>\n",
              "      <td>4.0</td>\n",
              "      <td>4.094001</td>\n",
              "    </tr>\n",
              "    <tr>\n",
              "      <th>91141</th>\n",
              "      <td>5.0</td>\n",
              "      <td>4.191477</td>\n",
              "    </tr>\n",
              "  </tbody>\n",
              "</table>\n",
              "</div>"
            ],
            "text/plain": [
              "       Rating         0\n",
              "71751     4.0  3.054919\n",
              "80493     3.0  2.954419\n",
              "2655      4.0  3.030532\n",
              "53233     4.0  4.094001\n",
              "91141     5.0  4.191477"
            ]
          },
          "metadata": {}
        },
        {
          "output_type": "stream",
          "name": "stdout",
          "text": [
            "0.9524309575879604\n"
          ]
        }
      ]
    },
    {
      "cell_type": "code",
      "metadata": {
        "colab": {
          "base_uri": "https://localhost:8080/",
          "height": 318
        },
        "id": "ZsoJ7-RnqSHm",
        "outputId": "4cc2a876-fa28-4df2-fd2c-be70b4fd99c2"
      },
      "source": [
        "import matplotlib.pyplot as plt\n",
        "#全体の精度比較\n",
        "print (rmse_dic)\n",
        "for k,v in rmse_dic.items():\n",
        "  plt.bar(k,v)\n",
        "plt.title(\"RMSE\")"
      ],
      "execution_count": 35,
      "outputs": [
        {
          "output_type": "stream",
          "name": "stdout",
          "text": [
            "{'KNN': 0.9762605158799611, 'SVD': 0.9319229085953485, 'NMF': 0.9598472046316071, 'fastai_dot': 0.9289167832638742, 'fastai_nn': 0.9524309575879604}\n"
          ]
        },
        {
          "output_type": "execute_result",
          "data": {
            "text/plain": [
              "Text(0.5, 1.0, 'RMSE')"
            ]
          },
          "metadata": {},
          "execution_count": 35
        },
        {
          "output_type": "display_data",
          "data": {
            "image/png": "[encoded data removed]",
            "text/plain": [
              "<Figure size 432x288 with 1 Axes>"
            ]
          },
          "metadata": {
            "needs_background": "light"
          }
        }
      ]
    },
    {
      "cell_type": "markdown",
      "metadata": {
        "id": "xK1SZdT9qL-l"
      },
      "source": [
        "## (参考) 完全データを使用した場合"
      ]
    },
    {
      "cell_type": "code",
      "metadata": {
        "id": "vjVvnz7b_s4j"
      },
      "source": [
        "from surprise import Reader\n",
        "from surprise.model_selection import cross_validate\n",
        "from surprise import NormalPredictor\n",
        "\n",
        "\n",
        "# Creation of the dataframe. Column names are irrelevant.\n",
        "ratings_dict = {'itemID': [1, 1, 1, 2, 2, 2, 3, 3,3],\n",
        "                'userID': [7, 8, 9, 7, 8,9,7,8,9],\n",
        "                'rating': [3, 2, 4, 3, 5,2,3,5,3]}\n",
        "df = pd.DataFrame(ratings_dict)\n",
        "\n",
        "# A reader is still needed but only the rating_scale param is requiered.\n",
        "reader = Reader(rating_scale=(1, 5))\n",
        "\n",
        "# The columns must correspond to user id, item id and ratings (in that order).\n",
        "data = Dataset.load_from_df(df[['userID', 'itemID', 'rating']], reader)"
      ],
      "execution_count": 223,
      "outputs": []
    },
    {
      "cell_type": "code",
      "metadata": {
        "colab": {
          "base_uri": "https://localhost:8080/"
        },
        "id": "D5mNKf3P__7_",
        "outputId": "226dd8cd-4b0f-4d0b-eda5-3692ce68d6c1"
      },
      "source": [
        "data.raw_ratings"
      ],
      "execution_count": 224,
      "outputs": [
        {
          "output_type": "execute_result",
          "data": {
            "text/plain": [
              "[(7, 1, 3.0, None),\n",
              " (8, 1, 2.0, None),\n",
              " (9, 1, 4.0, None),\n",
              " (7, 2, 3.0, None),\n",
              " (8, 2, 5.0, None),\n",
              " (9, 2, 2.0, None),\n",
              " (7, 3, 3.0, None),\n",
              " (8, 3, 5.0, None),\n",
              " (9, 3, 3.0, None)]"
            ]
          },
          "metadata": {},
          "execution_count": 224
        }
      ]
    },
    {
      "cell_type": "code",
      "metadata": {
        "colab": {
          "base_uri": "https://localhost:8080/"
        },
        "id": "tdYXnoUVBorI",
        "outputId": "fa008765-bfeb-4dee-b6da-4f2896d80ac9"
      },
      "source": [
        "algo = SVD(n_epochs=1000,biased=False,n_factors=3)\n",
        "trainset = data.build_full_trainset()\n",
        "algo.fit(trainset)"
      ],
      "execution_count": 246,
      "outputs": [
        {
          "output_type": "execute_result",
          "data": {
            "text/plain": [
              "<surprise.prediction_algorithms.matrix_factorization.SVD at 0x7fcd8c511090>"
            ]
          },
          "metadata": {},
          "execution_count": 246
        }
      ]
    },
    {
      "cell_type": "code",
      "metadata": {
        "colab": {
          "base_uri": "https://localhost:8080/"
        },
        "id": "pz2z_PpOCkzG",
        "outputId": "b8570564-97d9-45ce-b1b4-22257fcc7064"
      },
      "source": [
        "for _, row in df.iterrows():\n",
        "    print (algo.predict(row.userID, row.itemID,r_ui=row.rating))"
      ],
      "execution_count": 247,
      "outputs": [
        {
          "output_type": "stream",
          "name": "stdout",
          "text": [
            "user: 7          item: 1          r_ui = 3.00   est = 2.93   {'was_impossible': False}\n",
            "user: 8          item: 1          r_ui = 2.00   est = 2.03   {'was_impossible': False}\n",
            "user: 9          item: 1          r_ui = 4.00   est = 3.97   {'was_impossible': False}\n",
            "user: 7          item: 2          r_ui = 3.00   est = 2.85   {'was_impossible': False}\n",
            "user: 8          item: 2          r_ui = 5.00   est = 5.00   {'was_impossible': False}\n",
            "user: 9          item: 2          r_ui = 2.00   est = 2.08   {'was_impossible': False}\n",
            "user: 7          item: 3          r_ui = 3.00   est = 3.14   {'was_impossible': False}\n",
            "user: 8          item: 3          r_ui = 5.00   est = 4.92   {'was_impossible': False}\n",
            "user: 9          item: 3          r_ui = 3.00   est = 2.90   {'was_impossible': False}\n"
          ]
        }
      ]
    },
    {
      "cell_type": "code",
      "metadata": {
        "colab": {
          "base_uri": "https://localhost:8080/"
        },
        "id": "lHvtlRW3D-T3",
        "outputId": "8ffcf0d9-21fa-460c-c291-02234b2a4e27"
      },
      "source": [
        "np.dot((algo.qi.transpose()),algo.pu) "
      ],
      "execution_count": 248,
      "outputs": [
        {
          "output_type": "execute_result",
          "data": {
            "text/plain": [
              "array([[ 1.4801071 , -2.53222416,  2.46010709],\n",
              "       [-2.30188848,  6.5533639 , -3.26901764],\n",
              "       [ 1.50262283, -4.11401783,  2.80251132]])"
            ]
          },
          "metadata": {},
          "execution_count": 248
        }
      ]
    },
    {
      "cell_type": "code",
      "metadata": {
        "colab": {
          "base_uri": "https://localhost:8080/"
        },
        "id": "rIYHnZbYtYth",
        "outputId": "5338ea64-ca37-454e-e03b-217b627d1b91"
      },
      "source": [
        "algo."
      ],
      "execution_count": 243,
      "outputs": [
        {
          "output_type": "execute_result",
          "data": {
            "text/plain": [
              "array([-0.30924262,  0.56238382, -0.25432872])"
            ]
          },
          "metadata": {},
          "execution_count": 243
        }
      ]
    },
    {
      "cell_type": "code",
      "metadata": {
        "id": "bBSPEZD5q5RH"
      },
      "source": [
        "from numpy.linalg import svd, matrix_rank\n",
        "A = np.array(df.groupby(['userID','itemID'])['rating'].max().unstack())"
      ],
      "execution_count": 229,
      "outputs": []
    },
    {
      "cell_type": "code",
      "metadata": {
        "id": "jmeGqWpjsgKc"
      },
      "source": [
        "u, s, vh = svd(A)"
      ],
      "execution_count": 230,
      "outputs": []
    },
    {
      "cell_type": "code",
      "metadata": {
        "colab": {
          "base_uri": "https://localhost:8080/"
        },
        "id": "HuNklP1Is3SY",
        "outputId": "73530479-87d7-4d19-bce4-1058388dcb81"
      },
      "source": [
        "u.shape"
      ],
      "execution_count": 231,
      "outputs": [
        {
          "output_type": "execute_result",
          "data": {
            "text/plain": [
              "(3, 3)"
            ]
          },
          "metadata": {},
          "execution_count": 231
        }
      ]
    },
    {
      "cell_type": "code",
      "metadata": {
        "colab": {
          "base_uri": "https://localhost:8080/"
        },
        "id": "3_Ba2u_Js9W1",
        "outputId": "8ed8fd42-672c-4d9b-f314-86a6a71ae986"
      },
      "source": [
        "np.dot(u,np.dot(np.diag(s),vh))"
      ],
      "execution_count": 232,
      "outputs": [
        {
          "output_type": "execute_result",
          "data": {
            "text/plain": [
              "array([[3., 3., 3.],\n",
              "       [2., 5., 5.],\n",
              "       [4., 2., 3.]])"
            ]
          },
          "metadata": {},
          "execution_count": 232
        }
      ]
    },
    {
      "cell_type": "code",
      "metadata": {
        "colab": {
          "base_uri": "https://localhost:8080/"
        },
        "id": "q8ejw1VEtJYe",
        "outputId": "397da2a1-15d0-4e94-9fec-1fb883611b00"
      },
      "source": [
        "u"
      ],
      "execution_count": 233,
      "outputs": [
        {
          "output_type": "execute_result",
          "data": {
            "text/plain": [
              "array([[-0.50785934,  0.20387427, -0.83696725],\n",
              "       [-0.70357698, -0.65877394,  0.26645138],\n",
              "       [-0.49704962,  0.72419071,  0.47800574]])"
            ]
          },
          "metadata": {},
          "execution_count": 233
        }
      ]
    },
    {
      "cell_type": "code",
      "metadata": {
        "colab": {
          "base_uri": "https://localhost:8080/"
        },
        "id": "EDNlJoSStcRU",
        "outputId": "f64f89b0-ebb8-422c-9be3-cddfcc9de2ba"
      },
      "source": [
        "A"
      ],
      "execution_count": 234,
      "outputs": [
        {
          "output_type": "execute_result",
          "data": {
            "text/plain": [
              "array([[3, 3, 3],\n",
              "       [2, 5, 5],\n",
              "       [4, 2, 3]])"
            ]
          },
          "metadata": {},
          "execution_count": 234
        }
      ]
    },
    {
      "cell_type": "code",
      "metadata": {
        "id": "1GNKeJpZt_ah"
      },
      "source": [
        ""
      ],
      "execution_count": null,
      "outputs": []
    }
  ]
}